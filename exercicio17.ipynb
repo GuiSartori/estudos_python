{
 "cells": [
  {
   "cell_type": "markdown",
   "metadata": {},
   "source": [
    "# Python - Exercício 17\n",
    "\n",
    "Faça um Programa para uma loja de tintas. O programa deverá pedir o tamanho em metros quadrados da área a ser pintada. Considere que a cobertura da tinta é de 1 litro para cada 6 metros quadrados e que a tinta é vendida em latas de 18 litros, que custam R$ 80,00 ou em galões de 3,6 litros, que custam R$ 25,00.\n",
    "Informe ao usuário as quantidades de tinta a serem compradas e os respectivos preços em 3 situações:\n",
    "comprar apenas latas de 18 litros;\n",
    "comprar apenas galões de 3,6 litros;\n",
    "misturar latas e galões, de forma que o desperdício de tinta seja menor. Acrescente 10% de folga e sempre arredonde os valores para cima, isto é, considere latas cheias."
   ]
  },
  {
   "cell_type": "markdown",
   "metadata": {},
   "source": [
    "Importando biblioteca e definindo variáveis"
   ]
  },
  {
   "cell_type": "code",
   "execution_count": 67,
   "metadata": {},
   "outputs": [
    {
     "name": "stdout",
     "output_type": "stream",
     "text": [
      "A área informada é de 300.00m²\n",
      "Quantidade de tinta necessária: 55.00 litros\n"
     ]
    }
   ],
   "source": [
    "import math\n",
    "\n",
    "valorLata = 80\n",
    "valorGalao = 25\n",
    "area = int(input('Qual é o tamanho da área a ser pintada?'))\n",
    "tintaNecessaria = (area/6)*1.1 #folga de 10%\n",
    "print(f'A área informada é de {area:.2f}m²')\n",
    "print(f'Quantidade de tinta necessária: {tintaNecessaria:.2f} litros')"
   ]
  },
  {
   "cell_type": "markdown",
   "metadata": {},
   "source": [
    "Comprando apenas latas de 18 litros"
   ]
  },
  {
   "cell_type": "code",
   "execution_count": 68,
   "metadata": {},
   "outputs": [
    {
     "name": "stdout",
     "output_type": "stream",
     "text": [
      "Comprando apenas latas de 18 litros: 4 latas\n",
      "Valor total: R$320.00\n",
      "Sobram 16.999999999999993 litros de tinta\n"
     ]
    }
   ],
   "source": [
    "qtdLatas = math.ceil(tintaNecessaria/18)\n",
    "valorTotal = qtdLatas*valorLata\n",
    "resto = 18-(tintaNecessaria%18)\n",
    "print(f'Comprando apenas latas de 18 litros: {qtdLatas} latas')\n",
    "print(f'Valor total: R${valorTotal:.2f}')\n",
    "print(f'Sobram {resto} litros de tinta')"
   ]
  },
  {
   "cell_type": "markdown",
   "metadata": {},
   "source": [
    "Comprando apenas galões de 3,6 litros"
   ]
  },
  {
   "cell_type": "code",
   "execution_count": 69,
   "metadata": {},
   "outputs": [
    {
     "name": "stdout",
     "output_type": "stream",
     "text": [
      "Comprando apenas galões de 3,6 litros: 16 galões\n",
      "Valor total: R$400.00\n",
      "Sobram 2.80 litros de tinta\n"
     ]
    }
   ],
   "source": [
    "qtdGaloes = math.ceil(tintaNecessaria/3.6)\n",
    "valorTotal = qtdGaloes*valorGalao\n",
    "resto = 3.8-(tintaNecessaria%3.6)\n",
    "print(f'Comprando apenas galões de 3,6 litros: {qtdGaloes} galões')\n",
    "print(f'Valor total: R${valorTotal:.2f}')\n",
    "print(f'Sobram {resto:.2f} litros de tinta')"
   ]
  },
  {
   "cell_type": "markdown",
   "metadata": {},
   "source": [
    "Comprando latas e galões a fim de evitar desperdício de material"
   ]
  },
  {
   "cell_type": "code",
   "execution_count": 71,
   "metadata": {},
   "outputs": [
    {
     "name": "stdout",
     "output_type": "stream",
     "text": [
      "Quantidade de tinta necessária: 55.00 litros\n",
      "Comprando latas e galões para evitar disperdício: 3 latas e 1 galões\n",
      "Valor total: R$265.00\n",
      "Sobram 2.80 litros de tinta\n"
     ]
    }
   ],
   "source": [
    "print(f'Quantidade de tinta necessária: {tintaNecessaria:.2f} litros')\n",
    "qtdLatas = tintaNecessaria//18\n",
    "resto = tintaNecessaria%18\n",
    "qtdGaloes = math.ceil(resto/3.6)\n",
    "valorTotal = (qtdLatas*valorLata)+(qtdGaloes*valorGalao)\n",
    "resto = 3.8-(tintaNecessaria%3.6)\n",
    "print(f'Comprando latas e galões para evitar disperdício: {int(qtdLatas)} latas e {int(qtdGaloes)} galões')\n",
    "print(f'Valor total: R${valorTotal:.2f}')\n",
    "print(f'Sobram {resto:.2f} litros de tinta')\n"
   ]
  }
 ],
 "metadata": {
  "kernelspec": {
   "display_name": "Python 3",
   "language": "python",
   "name": "python3"
  },
  "language_info": {
   "codemirror_mode": {
    "name": "ipython",
    "version": 3
   },
   "file_extension": ".py",
   "mimetype": "text/x-python",
   "name": "python",
   "nbconvert_exporter": "python",
   "pygments_lexer": "ipython3",
   "version": "3.12.8"
  }
 },
 "nbformat": 4,
 "nbformat_minor": 2
}
