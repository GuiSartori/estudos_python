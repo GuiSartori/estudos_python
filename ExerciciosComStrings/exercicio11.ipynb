{
 "cells": [
  {
   "cell_type": "markdown",
   "metadata": {},
   "source": [
    "# Jogo da forca\n",
    "#### Desenvolva um jogo da forca. O programa terá uma lista de palavras lidas de um arquivo texto e escolherá uma aleatoriamente. O jogador poderá errar 6 vezes antes de ser enforcado."
   ]
  },
  {
   "cell_type": "code",
   "execution_count": 12,
   "metadata": {},
   "outputs": [
    {
     "name": "stdout",
     "output_type": "stream",
     "text": [
      "Jogo da Forca\n",
      "Descubra a palavra\n",
      "\n",
      "Palavra: _ _ _ _ _ _ _ _ _\n",
      "Letras erradas: \n",
      "Tentativas restantes: 6\n",
      "\n",
      "Palavra: _ _ _ _ _ _ _ _ _\n",
      "Letras erradas: A\n",
      "Tentativas restantes: 5\n",
      "\n",
      "Palavra: G _ _ _ _ _ _ _ _\n",
      "Letras erradas: A\n",
      "Tentativas restantes: 5\n",
      "\n",
      "Palavra: G _ _ _ _ _ _ _ _\n",
      "Letras erradas: O A\n",
      "Tentativas restantes: 4\n",
      "\n",
      "Palavra: G U _ _ _ _ _ _ _\n",
      "Letras erradas: O A\n",
      "Tentativas restantes: 4\n",
      "\n",
      "Palavra: G U I _ _ _ _ _ _\n",
      "Letras erradas: O A\n",
      "Tentativas restantes: 4\n",
      "\n",
      "Palavra: G U I L _ _ _ _ _\n",
      "Letras erradas: O A\n",
      "Tentativas restantes: 4\n",
      "\n",
      "Palavra: G U I L H _ _ _ _\n",
      "Letras erradas: O A\n",
      "Tentativas restantes: 4\n",
      "\n",
      "Palavra: G U I L H E _ _ E\n",
      "Letras erradas: O A\n",
      "Tentativas restantes: 4\n",
      "\n",
      "Palavra: G U I L H E R _ E\n",
      "Letras erradas: O A\n",
      "Tentativas restantes: 4\n",
      "\n",
      "Parabéns! Você descobriu a palavra: GUILHERME\n"
     ]
    }
   ],
   "source": [
    "palavra = \"Guilherme\".upper()\n",
    "tentativas = 6\n",
    "letras_corretas = set()\n",
    "letras_erradas = set()\n",
    "\n",
    "print('Jogo da Forca')\n",
    "print('Descubra a palavra')\n",
    "\n",
    "while tentativas > 0:\n",
    "    palavra_exibida = ' '.join([letra if letra in letras_corretas else '_' for letra in palavra])\n",
    "    print(f'\\nPalavra: {palavra_exibida}')\n",
    "    print(f'Letras erradas: {\" \".join(letras_erradas)}')\n",
    "    print(f'Tentativas restantes: {tentativas}')\n",
    "\n",
    "    tentativa = input('Digite uma letra: ').upper()\n",
    "\n",
    "    if tentativa in letras_corretas or tentativa in letras_erradas:\n",
    "        print('Você já tentou essa letra.')\n",
    "    elif tentativa in palavra:\n",
    "        letras_corretas.add(tentativa)\n",
    "    else:\n",
    "        letras_erradas.add(tentativa)\n",
    "        tentativas -= 1\n",
    "\n",
    "    if set(palavra) == letras_corretas:\n",
    "        print(f'\\nParabéns! Você descobriu a palavra: {palavra}')\n",
    "        break\n",
    "else:\n",
    "    print(f'\\nVocê perdeu! A palavra era: {palavra}')\n"
   ]
  }
 ],
 "metadata": {
  "kernelspec": {
   "display_name": "Python 3",
   "language": "python",
   "name": "python3"
  },
  "language_info": {
   "codemirror_mode": {
    "name": "ipython",
    "version": 3
   },
   "file_extension": ".py",
   "mimetype": "text/x-python",
   "name": "python",
   "nbconvert_exporter": "python",
   "pygments_lexer": "ipython3",
   "version": "3.12.8"
  }
 },
 "nbformat": 4,
 "nbformat_minor": 2
}
